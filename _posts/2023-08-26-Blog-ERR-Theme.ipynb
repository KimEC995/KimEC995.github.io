{
 "cells": [
  {
   "cell_type": "markdown",
   "metadata": {},
   "source": [
    "로컬에서는 스위쳐가 작동하는데, 웹에서는 작동 안한다.\n",
    "\n",
    "\n",
    "\n",
    "시도한것\n",
    "1. _config 파일의 theme_mode: # [light|dark] 를 dark 만 수행\n",
    "    이유: switcher 코드 얼핏 봤을땐 작동이 잘 됐었음. 아마 웹에서 theme 설정이 덜돼서 그런게 아닐까 하는 의문\n",
    "    결과: 아니었음\n",
    "\n",
    "2. 로컬에선 되는데 웹에선 안된다? 웹에 업로드 된 파일을 확인해보자\n",
    "    확인할 것 : Switcher 관련 코드\n",
    "    - ModeToggle 검색했을때 나오는 파일 전부 확인(include폴더 내부 파일, 자바스크립트 폴더 만나옴) - 안바뀜\n",
    "\n",
    "3. fas fa-adjust 웹 로컬 HTML 확인 / 이것과 연결되는 파일 .\\_includes\\sidebar.html 확인할것\n",
    "    - 아님\n",
    "\n",
    "4. 놀랍게도 .\\.gitignore 가 문제였다!!!!!!!!!!!!!!!!\n",
    "내부를 확인하면"
   ]
  },
  {
   "cell_type": "code",
   "execution_count": null,
   "metadata": {
    "vscode": {
     "languageId": "plaintext"
    }
   },
   "outputs": [],
   "source": [
    "# Misc\n",
    "assets/js/dist"
   ]
  },
  {
   "cell_type": "markdown",
   "metadata": {},
   "source": [
    "이래되는데, 사실 로컬에선 이게 없었어서 고생했던 기억이 나 혹시몰라 github를 확인하니 역시나 없다!\n",
    "주석처리하고 업뎃하니 된다!!!\n",
    "[참ㄱ고](https://www.antraxmin.dev/posts/jekyll-sidebar-toc-error)"
   ]
  }
 ],
 "metadata": {
  "language_info": {
   "name": "python"
  },
  "orig_nbformat": 4
 },
 "nbformat": 4,
 "nbformat_minor": 2
}
