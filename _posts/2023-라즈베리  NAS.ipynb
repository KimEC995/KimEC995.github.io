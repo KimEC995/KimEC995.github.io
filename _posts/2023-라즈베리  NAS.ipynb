{
 "cells": [
  {
   "cell_type": "markdown",
   "metadata": {},
   "source": [
    "# 라즈베리 파이 나스\n",
    "\n",
    "> 2023.10.11 시작\n",
    "\n",
    "\n",
    "## 참고\n",
    "[(서적)라즈베리파이로 시작하는 핸드메이드 IoT](https://product.kyobobook.co.kr/detail/S000001934230)\n",
    "\n",
    "[라즈베리파이 공식문서](https://www.raspberrypi.com/tutorials/nas-box-raspberry-pi-tutorial/)\n",
    "\n",
    "[라즈베리파이 HTML 웹페이지 배포](https://www.seeedstudio.com/blog/2020/06/23/setup-a-raspberry-pi-web-server-and-easily-build-an-html-webpage-m/)"
   ]
  },
  {
   "cell_type": "markdown",
   "metadata": {},
   "source": [
    "# 1. 준비물 준비하기\n",
    "\n",
    "\n",
    "- 라즈베리파이 4 8GB(당근에서 구매)\n",
    "- 케이블) HDMI to microHDMI\n",
    "- 케이블) Lan\n",
    "- 케이블) 5V 3A C타입 충전기(다이소)\n",
    "- 굴러다니던 16gb microSD Card\n",
    "- 굴러다니던 1TB HDD\n",
    "- 아무 모니터"
   ]
  },
  {
   "cell_type": "markdown",
   "metadata": {},
   "source": [
    "### 1. 라즈베리파이\n",
    "\n",
    "![image.png](/\\assets\\img\\postimg\\RaspberryPi_NAS\\RaspberryPi_NAS_02.png)\n",
    "\n",
    "\n",
    "우선 라즈베리 파이 나스 프로젝트이니 라즈베리 파이가 필요하다.\n",
    "\n",
    "라즈베리 파이는 여러 종류가 있는데 내가 선택 한 모델은 [Raspberry Pi 4 Model B](https://www.raspberrypi.com/products/raspberry-pi-4-model-b/) 8GB 모델이다.\n",
    "\n",
    "8GB를 일부러 구한건 아니고, 그냥 당근에 올라온 매물이 8GB라서..\n",
    "\n",
    "라즈베리 파이의 역사나 종류를 말하면 엄청 길어질 거 같으니까 간단히 말하면 엄청 작은 컴퓨터다. 사실 서버를 만드는건 일반 PC에서도 가능하다. 하지만 서버 돌린다고 RTX3070 글카를 장착한 나의 PC가 24시간 돌아가면 전기세가 장난 아닐 거 같아서 미니PC로 서버를 만든다.\n",
    "\n",
    "이전 직장 다닐 때 부터 항상 만들어 보고 싶었는데, 그땐 아두이노에 빠져있느라 라즈베리파이 쪽은 관심이 덜했다. 그리고 품귀현상 때문에 4GB 3모델이 20만원까지 올라갔었고. 이참에 도전해야지.\n",
    "\n",
    "3모델이 아닌 4모델을 선택 한 이유는\n",
    "\n",
    "![image.png](/\\assets\\img\\postimg\\RaspberryPi_NAS\\RaspberryPi_NAS_00.png)\n",
    "\n",
    "포트 지원이 많고 램 용량이 커서! 그리고 결정적으로 당근에서 가격이 둘 다 비슷해서! 였다."
   ]
  },
  {
   "cell_type": "markdown",
   "metadata": {},
   "source": [
    "### 2. 하드\n",
    "\n",
    "![image.png](/\\assets\\img\\postimg\\RaspberryPi_NAS\\RaspberryPi_NAS_01.png)\n",
    "\n",
    "집에서 왜인진 모르겠는데 굴러다니던 HDD.\n",
    "\n",
    "SSD 도 있긴 한데 1TB는 얘밖에 없어서 이녀석으로 골랐다."
   ]
  },
  {
   "cell_type": "markdown",
   "metadata": {},
   "source": [
    "### 3. MicroSD 16GB\n",
    "\n",
    "3D프린터 프로젝트 할 때 쟁여뒀었다. 현재 가진게 8 / 16 / 32 / 64가 있는데 32/64는 너무 크고 8은 생각보다 구하기 힘들고 쓸데도 많아서 16GB로 정했다."
   ]
  },
  {
   "cell_type": "markdown",
   "metadata": {},
   "source": [
    "### 4. 케이스\n",
    "\n",
    "케이스는 작업 후 설계 예정.\n",
    "\n",
    "참고\n",
    "[라즈베리파이 Datasheet](https://datasheets.raspberrypi.com/rpi4/raspberry-pi-4-datasheet.pdf)\n",
    "\n"
   ]
  },
  {
   "cell_type": "markdown",
   "metadata": {},
   "source": [
    "### 5. 5V 3A C타입 충전기\n",
    "\n",
    "원래 라즈베리 공식 [충전기](https://www.raspberrypi.com/products/type-c-power-supply/)는 이 친구인데 생각보다 구하기 까다롭다.\n",
    "\n",
    "일단 다이소에서 구해온 충전기로 해보다 안되면 다시 찾아보자."
   ]
  },
  {
   "cell_type": "markdown",
   "metadata": {},
   "source": [
    "# 2. OS 설치"
   ]
  },
  {
   "cell_type": "markdown",
   "metadata": {},
   "source": [
    "### 1. MicroSD 카드 포멧하기\n",
    "\n",
    "Micro SD 카드가 이미 포멧되긴 했는데 언제 했는지 기억도 안나고, 그 이후 썼던 것으로 기억하니 한번 더 포멧한다.\n",
    "\n",
    "![image.png](/\\assets\\img\\postimg\\RaspberryPi_NAS\\RaspberryPi_NAS_03.png)\n",
    "\n",
    "![image.png](/\\assets\\img\\postimg\\RaspberryPi_NAS\\RaspberryPi_NAS_04.png)\n",
    "\n",
    "확장성을 위해 `FAT32` 로 포멧. 어차피 OS 이미지가 2GB도 안된다.\n",
    "\n",
    "포멧 프로그램 설치까지는 아닌 것 같아 간이로 진행했는데, 추후 문제 발생 시 다시 할 것."
   ]
  },
  {
   "cell_type": "markdown",
   "metadata": {},
   "source": [
    "### 2. RasbianOS 이미지 설치\n",
    "\n",
    "[Raspberry Pi OS Lite](https://www.raspberrypi.com/software/operating-systems/)\n",
    "\n",
    "라즈베리파이에는 여러 OS를 설치할 수 있다. Windows, Mac, Ubuntu 등등. 깃 프로젝트들 보면 Ubuntu 설치를 많이 하는데 공식 문서에서 지원하는 것도 그렇고 Ubuntu로 설치하면 돌아돌아 가는 것 같아 그냥 Raspberrt Pi Os Lite 를 설치한다.\n",
    "\n",
    "![image.png](/\\assets\\img\\postimg\\RaspberryPi_NAS\\RaspberryPi_NAS_05.png)\n",
    "\n",
    "라이트 64bit 다운로드!\n",
    "\n",
    "이미지 파일을 받았으니 이제 구워야 한다.\n",
    "\n",
    "부팅 SD카드를 만드는 프로그램 중 `Etcher`와 `Rufus`중 고민하다 가벼운 `Rufus` 를 사용하려 한다.\n",
    "\n",
    "[Rufus](https://rufus.ie/ko/#google_vignette) 에서\n",
    "\n",
    "![image.png](/\\assets\\img\\postimg\\RaspberryPi_NAS\\RaspberryPi_NAS_06.png)\n",
    "\n",
    "운영체제에 맞는 인스톨러 다운!\n",
    "\n",
    "![image.png](/\\assets\\img\\postimg\\RaspberryPi_NAS\\RaspberryPi_NAS_07.png)\n",
    "\n",
    "1. 장치 선택. microSD카드를 연결해서 자동으로 잡은 모습이다.\n",
    "\n",
    "2. 부트 OS 선택. 어차피 리스트에는 원하는 OS가 없으니 ISO image를 선택하자.\n",
    "\n",
    "3. 다운받은 `Raspberry Pi OS Lite` 파일의 경로를 연결하자.\n",
    "\n",
    "4. `START!`\n",
    "\n",
    "눌러버려서 스샷을 못찍었는데 'OK' 누르자. 일반 경고문.\n",
    "\n",
    "완료!"
   ]
  },
  {
   "cell_type": "markdown",
   "metadata": {},
   "source": [
    "### 3. Booting\n",
    "\n",
    "부팅을 위해 세팅하자!!\n",
    "\n",
    "![image.png](/\\assets\\img\\postimg\\RaspberryPi_NAS\\RaspberryPi_NAS_08.png)\n",
    "\n",
    "1. 랜선\n",
    "\n",
    "2. USB 마우스와 키보드. 그래서 지금 책상엔 마우스와 키보드가 2개씩 있다..\n",
    "\n",
    "3. MicroHDMI와 파워 C타입.\n",
    "\n",
    "4. MicroSD Card\n",
    "\n",
    "모니터에 연결하면..!\n",
    "\n",
    "![image.png](/\\assets\\img\\postimg\\RaspberryPi_NAS\\RaspberryPi_NAS_09.png)\n",
    "\n",
    "사진이 뒤집힌게 아니라 보조 모니터가 뒤집힌거다..\n",
    "\n",
    "모니터 암때문에 뒤집어 놨었는데.."
   ]
  },
  {
   "cell_type": "markdown",
   "metadata": {},
   "source": [
    "## 3. 기본 설정\n",
    "\n",
    "### 0. sudo 설정하기\n",
    "\n",
    "위에서 설정한 계정은 일반 사용자 계정이다.\n",
    "\n",
    "root 계정에 손을 대보자.\n",
    "\n",
    "```bash\n",
    "~$sudo passwd root #root계정 PW 변경\n",
    "# PW입력\n",
    "\n",
    "~$su root #root계정 접속\n",
    "# PW입력\n",
    "```\n",
    "\n",
    "이제 root 계정으로 접속했다."
   ]
  }
 ],
 "metadata": {
  "language_info": {
   "name": "python"
  }
 },
 "nbformat": 4,
 "nbformat_minor": 2
}
