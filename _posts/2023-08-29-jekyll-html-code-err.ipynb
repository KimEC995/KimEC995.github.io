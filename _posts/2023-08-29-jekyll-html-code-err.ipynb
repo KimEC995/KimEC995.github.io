{
 "cells": [
  {
   "cell_type": "markdown",
   "metadata": {},
   "source": [
    "  Liquid Exception: Liquid syntax error (line 149): Unknown tag 'load' in /_posts/2023-08-29-WFW-HTML_CSS.md\n",
    "                    ------------------------------------------------\n",
    "      Jekyll 4.3.2   Please append `--trace` to the `serve` command \n",
    "                     for any additional information or backtrace. \n",
    "                    ------------------------------------------------"
   ]
  },
  {
   "cell_type": "markdown",
   "metadata": {},
   "source": [
    "해결\n",
    "\n",
    "https://github.com/jekyll/jekyll/issues/4567"
   ]
  }
 ],
 "metadata": {
  "language_info": {
   "name": "python"
  },
  "orig_nbformat": 4
 },
 "nbformat": 4,
 "nbformat_minor": 2
}
